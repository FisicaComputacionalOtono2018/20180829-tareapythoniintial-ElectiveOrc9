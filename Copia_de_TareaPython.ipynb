{
  "nbformat": 4,
  "nbformat_minor": 0,
  "metadata": {
    "colab": {
      "name": "Copia de TareaPython.ipynb",
      "version": "0.3.2",
      "provenance": [],
      "collapsed_sections": []
    },
    "kernelspec": {
      "name": "python3",
      "display_name": "Python 3"
    }
  },
  "cells": [
    {
      "metadata": {
        "id": "SPgMf3tqKwwl",
        "colab_type": "text"
      },
      "cell_type": "markdown",
      "source": [
        "De le solución y convierta en código pyton los siguientes problemas. \n",
        "\n",
        "\n",
        "1. Escriba una función que calcula el ángulo entre dos vectores.\n",
        "2. Escriba una función que devuelva los 3 ángulos con respecto a los ejes x, y y z de un vector tridimencional.\n",
        "3. Escriba una función que calcule el producto vectorial entre dos vectores tridimensionales.\n",
        "4. Traduzca el diagrama de flujo mostrado en la imagen al lenguaje Python y describa lo que realiza. \n",
        "![alt text](http://isapedraza.web.cern.ch/isapedraza/tmpWork/FisicaComputacional/diagrama.png)\n",
        "\n",
        "5. Diseñar un algoritmo en python que imprima y sume una serie la serie de números 3,6,9,12,...,99\n",
        "6. Escribir un algoritmo en python que lea cuatro números y que al final escriba el mayor de los cuatro.\n",
        "7. Diseñar un algorimo  en pytohn para calcular la velocidad (en m/s) de los corredores de la carrera de 1.500 metros. La entrada consistirá en parejas de números (minutos y segundos) que dan el tiempo del corredos; por cada corredor, el algoritmo debe imprimir el tiempo en minutos y segundos, así como la velocidad media. \n",
        "  Ejemplo de entrada de datos: (3,53)(3,40)(3,46)(3,52)(4,0)(0,0). El último par de datos se utilizará como fin de entrada de datos. \n",
        " \n",
        "8. Escribir un algoritmo que calcule la superficie de un triángulo en función de la base y la altura. ($A= 1/2 *Base * Altura$)\n",
        " \n",
        "9. Un sistema de ecuaciones lineales \n",
        " \\begin{equation}\n",
        "ax + by = c\n",
        " \\end{equation}\n",
        "\\begin{equation}\n",
        "dx + ey = f\n",
        "\\end{equation}\n",
        " \n",
        " se puede resolver con las siguientes fórmulas: \n",
        "\\begin{equation}\n",
        "x = \\frac{ce-bf}{ae-bd}\n",
        "\\end{equation}\n",
        "\n",
        "\\begin{equation}\n",
        "y = \\frac{af-cd}{ae-bd}\n",
        "\\end{equation}\n",
        "\n",
        "\n",
        "10. Diseñar un programa en Python que lea los dos conjutnos de coeficientes (a,b y c; d,e y f) y visualice los valores de $x$ y $y$. \n",
        " \n",
        " 11. Diseñe un programa que grafique las siguietes funciones en una misma gráfica. En el rango de -10 a 15. \n",
        " \\begin{equation}\n",
        "f1(x) = 2x^2 + 5x - 2\n",
        "\\end{equation}\n",
        "\\begin{equation}\n",
        "f2(x) = 4x + 1\n",
        "\\end{equation}\n",
        "---\n",
        "\n",
        "\n",
        "\n",
        "---\n",
        "\n",
        "\n",
        "\n",
        " "
      ]
    },
    {
      "metadata": {
        "id": "jcXtcCv9nlai",
        "colab_type": "code",
        "colab": {
          "base_uri": "https://localhost:8080/",
          "height": 153
        },
        "outputId": "cfcff877-fcd9-4f78-eb10-a26e5f60e85f"
      },
      "cell_type": "code",
      "source": [
        "#Author:Angel Octavio Parada Flores\n",
        "#1er problema\n",
        "import numpy as np\n",
        "import math\n",
        "##np.linalg.norm - Comando para calcular la magnitud de un vector\n",
        "def mag(x): \n",
        " return np.linalg.norm(x)\n",
        "def pp(a,b):\n",
        "  return np.dot(a,b)\n",
        "def cos(a,b):\n",
        " return pp(a,b)*(mag(a)*mag(b))**-1\n",
        "x1 = input('Vector 1 - Componente x: ')\n",
        "y1 = input('Vector 1 - Componente y: ')\n",
        "x2 = input('Vector 2 - Componente x: ')\n",
        "y2 = input('Vector 2 - Componente y: ')\n",
        "v = [float(x1), float(y1)]\n",
        "u = [float(x2), float(y2)]\n",
        "print ('Magnitud del vector 1: ', mag(v))\n",
        "print ('Magnitud del vector 2: ', mag(u))\n",
        "print ('Producto punto de los dos vectores: ', pp(v,u))\n",
        "j=np.arccos(cos(v,u))\n",
        "print ('Angulo entre los dos vectores: ', np.degrees(j), '°')\n",
        "\n"
      ],
      "execution_count": 25,
      "outputs": [
        {
          "output_type": "stream",
          "text": [
            "Vector 1 - Componente x: 57\n",
            "Vector 1 - Componente y: 65\n",
            "Vector 2 - Componente x: 98\n",
            "Vector 2 - Componente y: 23\n",
            "Magnitud del vector 1:  86.45229898620394\n",
            "Magnitud del vector 2:  100.66280345788111\n",
            "Producto punto de los dos vectores:  7081.0\n",
            "Angulo entre los dos vectores:  35.54380060774688 °\n"
          ],
          "name": "stdout"
        }
      ]
    },
    {
      "metadata": {
        "id": "yyPHy86GyFKP",
        "colab_type": "code",
        "colab": {
          "base_uri": "https://localhost:8080/",
          "height": 136
        },
        "outputId": "568ec16e-ffcd-4547-fefc-d1b027be9d3f"
      },
      "cell_type": "code",
      "source": [
        "#Author:Angel Octavio Parada Flores\n",
        "#2do problema\n",
        "import numpy as np\n",
        "import math\n",
        "#np.linalg.norm - Comando para calcular la magnitud de un vector\n",
        "def mag(x): \n",
        " return np.linalg.norm(x)\n",
        "x1 = float(input('Vector - Componente x: '))\n",
        "y1 = float(input('Vector - Componente y: '))\n",
        "z1 = float(input('Vector - Componente z: '))\n",
        "v = [x1, y1, z1]\n",
        "s = float(mag(v))\n",
        "x = np.arccos(x1/s)\n",
        "y = np.arccos(y1/s)\n",
        "z = np.arccos(z1/s)\n",
        "print ('Magnitud del vector: ', s)\n",
        "print ('Angulo con eje x: ', np.degrees(x), '°')\n",
        "print ('Angulo con eje y: ', np.degrees(y), '°')\n",
        "print ('Angulo con eje z: ', np.degrees(z), '°')\n",
        "\n",
        "\n"
      ],
      "execution_count": 28,
      "outputs": [
        {
          "output_type": "stream",
          "text": [
            "Vector - Componente x: 2\n",
            "Vector - Componente y: 3\n",
            "Vector - Componente z: 4\n",
            "Magnitud del vector:  5.385164807134504\n",
            "Angulo con eje x:  68.19859051364818 °\n",
            "Angulo con eje y:  56.145485187379485 °\n",
            "Angulo con eje z:  42.03111377419729 °\n"
          ],
          "name": "stdout"
        }
      ]
    },
    {
      "metadata": {
        "id": "KNdKnkHoyOQd",
        "colab_type": "code",
        "colab": {
          "base_uri": "https://localhost:8080/",
          "height": 170
        },
        "outputId": "d078339c-f1cc-4e1b-85e4-94eff40b1f06"
      },
      "cell_type": "code",
      "source": [
        "#Author:Angel Octavio Parada Flores\n",
        "#3er problema\n",
        "import numpy as np\n",
        "import math\n",
        " \n",
        "x1 = float(input('Vector V - Componente x: '))\n",
        "y1 = float(input('Vector V - Componente y: '))\n",
        "z1 = float(input('Vector V - Componente z: '))\n",
        "x2 = float(input('Vector U - Componente x: '))\n",
        "y2 = float(input('Vector U - Componente y: '))\n",
        "z2 = float(input('Vector U - Componente z: '))\n",
        "v = np.array([x1, y1, z1])\n",
        "u = np.array([x2, y2, z2])\n",
        "print('Vector V: ', v)\n",
        "print('Vector U: ', u)\n",
        "print('Producto cruz de V con U. (VxU): ', np.cross(v, u))"
      ],
      "execution_count": 25,
      "outputs": [
        {
          "output_type": "stream",
          "text": [
            "Vector V - Componente x: 2\n",
            "Vector V - Componente y: 3\n",
            "Vector V - Componente z: 4\n",
            "Vector U - Componente x: 5\n",
            "Vector U - Componente y: 6\n",
            "Vector U - Componente z: 7\n",
            "Vector V:  [2. 3. 4.]\n",
            "Vector U:  [5. 6. 7.]\n",
            "Producto cruz de V con U. (VxU):  [-3.  6. -3.]\n"
          ],
          "name": "stdout"
        }
      ]
    },
    {
      "metadata": {
        "id": "IlfE1un8zAek",
        "colab_type": "code",
        "colab": {
          "base_uri": "https://localhost:8080/",
          "height": 51
        },
        "outputId": "37a72d9a-d2a6-4376-8d2b-7476b5d1e8d8"
      },
      "cell_type": "code",
      "source": [
        "#Author:Angel Octavio Parada Flores\n",
        "#4to problema\n",
        "\n",
        "x=1\n",
        "while x<=5:\n",
        "  if x%3!=0:\n",
        "    print(x)\n",
        "  x=x+2\n",
        "    \n"
      ],
      "execution_count": 3,
      "outputs": [
        {
          "output_type": "stream",
          "text": [
            "1\n",
            "5\n"
          ],
          "name": "stdout"
        }
      ]
    },
    {
      "metadata": {
        "id": "9KsbVRc232EJ",
        "colab_type": "code",
        "colab": {
          "base_uri": "https://localhost:8080/",
          "height": 51
        },
        "outputId": "73d418bc-65a8-45ea-b50d-a92014ceefae"
      },
      "cell_type": "code",
      "source": [
        "#Author:Angel Octavio Parada Flores\n",
        "#5to problema\n",
        "\n",
        "s = []\n",
        "for x in range (1, 34):\n",
        "  s.append(x*3)\n",
        "print(s)\n",
        "\n",
        "sum=0\n",
        "for i in s:\n",
        "  sum=sum+i\n",
        "print('La suma de todos los elementos de la anterior lista es: ', sum)\n",
        "  "
      ],
      "execution_count": 9,
      "outputs": [
        {
          "output_type": "stream",
          "text": [
            "[3, 6, 9, 12, 15, 18, 21, 24, 27, 30, 33, 36, 39, 42, 45, 48, 51, 54, 57, 60, 63, 66, 69, 72, 75, 78, 81, 84, 87, 90, 93, 96, 99]\n",
            "La suma de todos los elementos de la anterior lista es:  1683\n"
          ],
          "name": "stdout"
        }
      ]
    },
    {
      "metadata": {
        "id": "31xC225gB5RW",
        "colab_type": "code",
        "colab": {
          "base_uri": "https://localhost:8080/",
          "height": 102
        },
        "outputId": "6f6d5c81-7496-4440-80b4-bcf639da407b"
      },
      "cell_type": "code",
      "source": [
        "#Author:Angel Octavio Parada Flores\n",
        "#6to problema\n",
        "import numpy as np\n",
        "a = float(input('Numero 1: '))\n",
        "b = float(input('Numero 2: '))\n",
        "c = float(input('Numero 3: '))\n",
        "d = float(input('Numero 4: '))\n",
        "x = np.array([a, b, c, d])\n",
        "print('El valor maximo de los anteriores valores es: ', np.ndarray.max(x))\n"
      ],
      "execution_count": 19,
      "outputs": [
        {
          "output_type": "stream",
          "text": [
            "Numero 1: 826\n",
            "Numero 2: 8854673\n",
            "Numero 3: 8768721\n",
            "Numero 4: 6512421983\n",
            "El valor maximo de los anteriores valores es:  6512421983.0\n"
          ],
          "name": "stdout"
        }
      ]
    },
    {
      "metadata": {
        "id": "K-ofWw6ojoiX",
        "colab_type": "code",
        "colab": {
          "base_uri": "https://localhost:8080/",
          "height": 1285
        },
        "outputId": "734e3459-b792-419c-dc47-1cf811c53767"
      },
      "cell_type": "code",
      "source": [
        "#Author:Angel Octavio Parada Flores\n",
        "#7mo problema\n",
        "import time\n",
        "print('ADVERTENCIA: El programa no se detendra hasta que lo cancele.')\n",
        "time.sleep(5)\n",
        "min=0\n",
        "seg=0\n",
        "print('(', 'min.', ',', 'seg.', ')', 'Velocidad (m/s)')\n",
        "while t!=-1:\n",
        " seg=seg+1\n",
        " if seg%60==0:\n",
        "  min=min+1\n",
        "  seg=0\n",
        " t=(min*60)+seg\n",
        " v=1500/t \n",
        " print('(', min, ',', seg, ')', v)\n",
        " time.sleep(0.1)"
      ],
      "execution_count": 57,
      "outputs": [
        {
          "output_type": "stream",
          "text": [
            "ADVERTENCIA: El programa no se detendra hasta que lo cancele.\n",
            "( min. , seg. ) Velocidad (m/s)\n",
            "( 0 , 1 ) 1500.0\n",
            "( 0 , 2 ) 750.0\n",
            "( 0 , 3 ) 500.0\n",
            "( 0 , 4 ) 375.0\n",
            "( 0 , 5 ) 300.0\n",
            "( 0 , 6 ) 250.0\n",
            "( 0 , 7 ) 214.28571428571428\n",
            "( 0 , 8 ) 187.5\n",
            "( 0 , 9 ) 166.66666666666666\n",
            "( 0 , 10 ) 150.0\n",
            "( 0 , 11 ) 136.36363636363637\n",
            "( 0 , 12 ) 125.0\n",
            "( 0 , 13 ) 115.38461538461539\n",
            "( 0 , 14 ) 107.14285714285714\n",
            "( 0 , 15 ) 100.0\n",
            "( 0 , 16 ) 93.75\n",
            "( 0 , 17 ) 88.23529411764706\n",
            "( 0 , 18 ) 83.33333333333333\n",
            "( 0 , 19 ) 78.94736842105263\n",
            "( 0 , 20 ) 75.0\n",
            "( 0 , 21 ) 71.42857142857143\n",
            "( 0 , 22 ) 68.18181818181819\n",
            "( 0 , 23 ) 65.21739130434783\n",
            "( 0 , 24 ) 62.5\n",
            "( 0 , 25 ) 60.0\n",
            "( 0 , 26 ) 57.69230769230769\n",
            "( 0 , 27 ) 55.55555555555556\n",
            "( 0 , 28 ) 53.57142857142857\n",
            "( 0 , 29 ) 51.724137931034484\n",
            "( 0 , 30 ) 50.0\n",
            "( 0 , 31 ) 48.38709677419355\n",
            "( 0 , 32 ) 46.875\n",
            "( 0 , 33 ) 45.45454545454545\n",
            "( 0 , 34 ) 44.11764705882353\n",
            "( 0 , 35 ) 42.857142857142854\n",
            "( 0 , 36 ) 41.666666666666664\n",
            "( 0 , 37 ) 40.54054054054054\n",
            "( 0 , 38 ) 39.473684210526315\n",
            "( 0 , 39 ) 38.46153846153846\n",
            "( 0 , 40 ) 37.5\n",
            "( 0 , 41 ) 36.58536585365854\n",
            "( 0 , 42 ) 35.714285714285715\n",
            "( 0 , 43 ) 34.883720930232556\n",
            "( 0 , 44 ) 34.09090909090909\n",
            "( 0 , 45 ) 33.333333333333336\n",
            "( 0 , 46 ) 32.608695652173914\n",
            "( 0 , 47 ) 31.914893617021278\n",
            "( 0 , 48 ) 31.25\n",
            "( 0 , 49 ) 30.612244897959183\n",
            "( 0 , 50 ) 30.0\n",
            "( 0 , 51 ) 29.41176470588235\n",
            "( 0 , 52 ) 28.846153846153847\n",
            "( 0 , 53 ) 28.30188679245283\n",
            "( 0 , 54 ) 27.77777777777778\n",
            "( 0 , 55 ) 27.272727272727273\n",
            "( 0 , 56 ) 26.785714285714285\n",
            "( 0 , 57 ) 26.31578947368421\n",
            "( 0 , 58 ) 25.862068965517242\n",
            "( 0 , 59 ) 25.423728813559322\n",
            "( 1 , 0 ) 25.0\n",
            "( 1 , 1 ) 24.59016393442623\n",
            "( 1 , 2 ) 24.193548387096776\n"
          ],
          "name": "stdout"
        },
        {
          "output_type": "error",
          "ename": "KeyboardInterrupt",
          "evalue": "ignored",
          "traceback": [
            "\u001b[0;31m---------------------------------------------------------------------------\u001b[0m",
            "\u001b[0;31mKeyboardInterrupt\u001b[0m                         Traceback (most recent call last)",
            "\u001b[0;32m<ipython-input-57-c1b628db6536>\u001b[0m in \u001b[0;36m<module>\u001b[0;34m()\u001b[0m\n\u001b[1;32m     13\u001b[0m  \u001b[0mv\u001b[0m\u001b[0;34m=\u001b[0m\u001b[0;36m1500\u001b[0m\u001b[0;34m/\u001b[0m\u001b[0mt\u001b[0m\u001b[0;34m\u001b[0m\u001b[0m\n\u001b[1;32m     14\u001b[0m  \u001b[0mprint\u001b[0m\u001b[0;34m(\u001b[0m\u001b[0;34m'('\u001b[0m\u001b[0;34m,\u001b[0m \u001b[0mmin\u001b[0m\u001b[0;34m,\u001b[0m \u001b[0;34m','\u001b[0m\u001b[0;34m,\u001b[0m \u001b[0mseg\u001b[0m\u001b[0;34m,\u001b[0m \u001b[0;34m')'\u001b[0m\u001b[0;34m,\u001b[0m \u001b[0mv\u001b[0m\u001b[0;34m)\u001b[0m\u001b[0;34m\u001b[0m\u001b[0m\n\u001b[0;32m---> 15\u001b[0;31m  \u001b[0mtime\u001b[0m\u001b[0;34m.\u001b[0m\u001b[0msleep\u001b[0m\u001b[0;34m(\u001b[0m\u001b[0;36m0.1\u001b[0m\u001b[0;34m)\u001b[0m\u001b[0;34m\u001b[0m\u001b[0m\n\u001b[0m",
            "\u001b[0;31mKeyboardInterrupt\u001b[0m: "
          ]
        }
      ]
    },
    {
      "metadata": {
        "id": "1WYVi_dlCqFR",
        "colab_type": "code",
        "colab": {
          "base_uri": "https://localhost:8080/",
          "height": 323
        },
        "outputId": "68fa9ddf-fb9e-4608-ec03-59430741fc00"
      },
      "cell_type": "code",
      "source": [
        "#Author:Angel Octavio Parada Flores\n",
        "#7mo problema (Solucion 2)\n",
        "def f(t):\n",
        " a=t.replace(\")(\", \" \")\n",
        " b=a.replace(\"(\", \"\")\n",
        " c=b.replace(\")\", \"\")\n",
        " d=c.replace(\",\",\" \")\n",
        " return d\n",
        "t=(input())\n",
        "s=f(t)\n",
        "print(s)\n",
        "for i in s:\n",
        " if i!=\" \":\n",
        "  print(float(i))\n",
        "\n",
        "\n",
        "#t1=input('Corredor 1: ')\n",
        "#t2=input('Corredor 2: ')\n",
        "#t3=input('Corredor 3: ')\n",
        "#t4=input('Corredor 4: ')\n",
        "#print(f(t1), f(t2))\n",
        "#stringinput: input('Ingresa las distancias y los tiempos en el formato (d1,t1)(d1,t2), usa (0,0) para terminar: ')\n",
        "#print (stringinput)\n",
        "                                                                  "
      ],
      "execution_count": 60,
      "outputs": [
        {
          "output_type": "stream",
          "text": [
            "(7,8)(769,9)(752,8)(212,2)(0,0)\n",
            "7 8 769 9 752 8 212 2 0 0\n",
            "7.0\n",
            "8.0\n",
            "7.0\n",
            "6.0\n",
            "9.0\n",
            "9.0\n",
            "7.0\n",
            "5.0\n",
            "2.0\n",
            "8.0\n",
            "2.0\n",
            "1.0\n",
            "2.0\n",
            "2.0\n",
            "0.0\n",
            "0.0\n"
          ],
          "name": "stdout"
        }
      ]
    },
    {
      "metadata": {
        "id": "OD4S1lvOCs1a",
        "colab_type": "code",
        "colab": {
          "base_uri": "https://localhost:8080/",
          "height": 85
        },
        "outputId": "2369898d-bff6-409a-d16d-76ac57cb6d82"
      },
      "cell_type": "code",
      "source": [
        "#Author:Angel Octavio Parada Flores\n",
        "#8vo problema\n",
        "\n",
        "import numpy as np\n",
        "print ('Calcular el área de un triangulo con:')\n",
        "a = float(input('Base: '))\n",
        "b = float(input('Altura: '))\n",
        "print ('El área del triangulo es: ', b*a/2)\n"
      ],
      "execution_count": 11,
      "outputs": [
        {
          "output_type": "stream",
          "text": [
            "Calcular el área de un triangulo con:\n",
            "Base: 10\n",
            "Altura: 45\n",
            "El área del triangulo es:  225.0\n"
          ],
          "name": "stdout"
        }
      ]
    },
    {
      "metadata": {
        "id": "RDa7lHWKCwfU",
        "colab_type": "code",
        "colab": {
          "base_uri": "https://localhost:8080/",
          "height": 221
        },
        "outputId": "596c24f7-5f70-4f9a-c47d-632f38532921"
      },
      "cell_type": "code",
      "source": [
        "#Author:Angel Octavio Parada Flores\n",
        "#9no problema\n",
        "import numpy as np\n",
        "print('Resolucion de un sistema de ecuaciones de la forma:')\n",
        "print('ax+by=c')\n",
        "print('dx+ey=f')\n",
        "a = float(input('Coeficiente a: '))\n",
        "b = float(input('Coeficiente b: '))\n",
        "c = float(input('Coeficiente c: '))\n",
        "d = float(input('Coeficiente d: '))\n",
        "e = float(input('Coeficiente e: '))\n",
        "f = float(input('Coeficiente f: '))\n",
        "x=np.array([[a, b], [d, e]])\n",
        "y=np.array([c, f])\n",
        "j=np.linalg.solve(x,y)\n",
        "\n",
        "k=j[0]\n",
        "l=j[1]\n",
        "\n",
        "print(j)\n",
        "print('x = ', round(k,3))\n",
        "print('y = ', round(l,3))\n"
      ],
      "execution_count": 17,
      "outputs": [
        {
          "output_type": "stream",
          "text": [
            "Resolucion de un sistema de ecuaciones de la forma:\n",
            "ax+by=c\n",
            "dx+ey=f\n",
            "Coeficiente a: 6\n",
            "Coeficiente b: -5\n",
            "Coeficiente c: -3\n",
            "Coeficiente d: 3\n",
            "Coeficiente e: 2\n",
            "Coeficiente f: 12\n",
            "[2. 3.]\n",
            "x =  2.0\n",
            "y =  3.0\n"
          ],
          "name": "stdout"
        }
      ]
    },
    {
      "metadata": {
        "id": "QaDVjsDoCzJU",
        "colab_type": "code",
        "colab": {
          "base_uri": "https://localhost:8080/",
          "height": 347
        },
        "outputId": "6f03c05d-c9f9-483a-fae4-306fbd24a9b7"
      },
      "cell_type": "code",
      "source": [
        "#Author:Angel Octavio Parada Flores\n",
        "#10mo problema\n",
        "import numpy as np\n",
        "import matplotlib.pyplot as plt\n",
        "def f(x):\n",
        "  return 2*x**2+5*x-2\n",
        "def g(x):\n",
        "  return 4*x-1\n",
        "x=np.arange(-10, 15, 0.1)\n",
        "\n",
        "plt.plot(x, g(x), x, f(x))\n",
        "plt.show()"
      ],
      "execution_count": 18,
      "outputs": [
        {
          "output_type": "display_data",
          "data": {
            "image/png": "[encoded data removed]",
            "text/plain": [
              "<matplotlib.figure.Figure at 0x7f4b4bd68f60>"
            ]
          },
          "metadata": {
            "tags": []
          }
        }
      ]
    },
    {
      "metadata": {
        "id": "Ik58k8jmqByX",
        "colab_type": "code",
        "colab": {}
      },
      "cell_type": "code",
      "source": [
        "#Programa modelo 1 - Producto Punto\n",
        "import random #Se importa la paqueteria random que permitirá generar numeros aleatorios.\n",
        "print(\"Éste ejercicio cálcula el producto punto de 2 vectores, las entradas de cada vector son números aleatorios entre el 0 y el 10.\")\n",
        "print(\"\")\n",
        "ProductoPunto=0 #\n",
        "n=int(input(\"Ingrese el número de entradas que quieres que tenga cada vector:\"))        \n",
        "#Se le pide al usuario que ingrese el numero de entradas para su vector.\n",
        "v=[None]*n    #Defino los vectores, como vacios para que al multiplicarlos por el número \n",
        "w=[None]*n    #de entradas que pidio el usuario  \n",
        "for i in range(0, n):      #Definimos un ciclo\n",
        "  v[i]=random.randint(0,10) #Aqui defino que cada entrada i, sea un número aleatorio entre\n",
        "  w[i]=random.randint(0,10) #el 1 y el 10 para los dos vectores. \n",
        "print(\"Tu vector v es: \", v) #Imprimo los vectores para que el usuario los vea.\n",
        "print(\"Tu vector w es: \", w)\n",
        "\n",
        "for i in range(0,n):         #Aqui ya defino el producto punto, que python ya sabe de \n",
        "                             #que se multiplicará entrada por entrada, guarda y suma cada entrada.\n",
        "  ProductoPunto=ProductoPunto + v[i]*w[i]\n",
        "  \n",
        "print (\"El producto punto de tus vectores es:\", str(ProductoPunto),\".\") "
      ],
      "execution_count": 0,
      "outputs": []
    },
    {
      "metadata": {
        "id": "wWjgVxQd-UPy",
        "colab_type": "code",
        "colab": {}
      },
      "cell_type": "code",
      "source": [
        "#Programa modelo 2 - Grafica de funciones.\n",
        "#Author: Angel Octavio Parada Flores\n",
        "#Fecha: 28/08/18\n",
        "#Grafica y\n",
        "import matplotlib.pyplot as plt\n",
        "import numpy as np\n",
        "import math\n",
        "\n",
        "def f(x):\n",
        " if x >= 0:\n",
        "  return(x**5*math.exp(-x))\n",
        " else: \n",
        "  return 0\n",
        "\n",
        "def fxvector(x):\n",
        " fxvector = []\n",
        " for i in np.nditer(x):\n",
        "  fxvector.append(f(i))\n",
        " return fxvector\n",
        "\n",
        "xvector = np.arange(-2, 25, 0.1)\n",
        "print (xvector.size)\n",
        "print (fxvector(xvector))\n",
        "\n",
        "fxvector(xvector)\n",
        "\n",
        "plt.plot(xvector, fxvector(xvector), 'k')\n",
        "plt.savefig('fy3.jpg')\n",
        "plt.show()"
      ],
      "execution_count": 0,
      "outputs": []
    }
  ]
}